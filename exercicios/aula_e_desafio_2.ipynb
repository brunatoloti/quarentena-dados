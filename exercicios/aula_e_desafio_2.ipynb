{
  "nbformat": 4,
  "nbformat_minor": 0,
  "metadata": {
    "colab": {
      "name": "aula_e_desafio_2.ipynb",
      "provenance": [],
      "collapsed_sections": [],
      "toc_visible": true,
      "mount_file_id": "1FtZ_m22OOJfNrpI0-sSWX66WMFhXTTSE",
      "authorship_tag": "ABX9TyN9AFJQmyE77n4kXx9wtD7n",
      "include_colab_link": true
    },
    "kernelspec": {
      "name": "python3",
      "display_name": "Python 3"
    }
  },
  "cells": [
    {
      "cell_type": "markdown",
      "metadata": {
        "id": "view-in-github",
        "colab_type": "text"
      },
      "source": [
        "<a href=\"https://colab.research.google.com/github/brunatoloti/quarentena-dados/blob/master/exercicios/aula_e_desafio_2.ipynb\" target=\"_parent\"><img src=\"https://colab.research.google.com/assets/colab-badge.svg\" alt=\"Open In Colab\"/></a>"
      ]
    },
    {
      "cell_type": "markdown",
      "metadata": {
        "id": "zzSAc9o2RFjj",
        "colab_type": "text"
      },
      "source": [
        "## Aula 2 - Medias, Medianas e Visualização de Dados"
      ]
    },
    {
      "cell_type": "code",
      "metadata": {
        "id": "kE8lnscEwJtR",
        "colab_type": "code",
        "colab": {}
      },
      "source": [
        "import matplotlib.pyplot as plt\n",
        "import pandas as pd\n",
        "import numpy as np"
      ],
      "execution_count": null,
      "outputs": []
    },
    {
      "cell_type": "code",
      "metadata": {
        "id": "cKgHvxmTwXGa",
        "colab_type": "code",
        "colab": {
          "base_uri": "https://localhost:8080/",
          "height": 204
        },
        "outputId": "e0105724-72b5-49ae-f3d0-ee770e889439"
      },
      "source": [
        "movies = pd.read_csv('drive/My Drive/Estudos Python/QuarentenaDados - Alura/dados/movies.csv')\n",
        "movies.head()"
      ],
      "execution_count": null,
      "outputs": [
        {
          "output_type": "execute_result",
          "data": {
            "text/html": [
              "<div>\n",
              "<style scoped>\n",
              "    .dataframe tbody tr th:only-of-type {\n",
              "        vertical-align: middle;\n",
              "    }\n",
              "\n",
              "    .dataframe tbody tr th {\n",
              "        vertical-align: top;\n",
              "    }\n",
              "\n",
              "    .dataframe thead th {\n",
              "        text-align: right;\n",
              "    }\n",
              "</style>\n",
              "<table border=\"1\" class=\"dataframe\">\n",
              "  <thead>\n",
              "    <tr style=\"text-align: right;\">\n",
              "      <th></th>\n",
              "      <th>movieId</th>\n",
              "      <th>title</th>\n",
              "      <th>genres</th>\n",
              "    </tr>\n",
              "  </thead>\n",
              "  <tbody>\n",
              "    <tr>\n",
              "      <th>0</th>\n",
              "      <td>1</td>\n",
              "      <td>Toy Story (1995)</td>\n",
              "      <td>Adventure|Animation|Children|Comedy|Fantasy</td>\n",
              "    </tr>\n",
              "    <tr>\n",
              "      <th>1</th>\n",
              "      <td>2</td>\n",
              "      <td>Jumanji (1995)</td>\n",
              "      <td>Adventure|Children|Fantasy</td>\n",
              "    </tr>\n",
              "    <tr>\n",
              "      <th>2</th>\n",
              "      <td>3</td>\n",
              "      <td>Grumpier Old Men (1995)</td>\n",
              "      <td>Comedy|Romance</td>\n",
              "    </tr>\n",
              "    <tr>\n",
              "      <th>3</th>\n",
              "      <td>4</td>\n",
              "      <td>Waiting to Exhale (1995)</td>\n",
              "      <td>Comedy|Drama|Romance</td>\n",
              "    </tr>\n",
              "    <tr>\n",
              "      <th>4</th>\n",
              "      <td>5</td>\n",
              "      <td>Father of the Bride Part II (1995)</td>\n",
              "      <td>Comedy</td>\n",
              "    </tr>\n",
              "  </tbody>\n",
              "</table>\n",
              "</div>"
            ],
            "text/plain": [
              "   movieId  ...                                       genres\n",
              "0        1  ...  Adventure|Animation|Children|Comedy|Fantasy\n",
              "1        2  ...                   Adventure|Children|Fantasy\n",
              "2        3  ...                               Comedy|Romance\n",
              "3        4  ...                         Comedy|Drama|Romance\n",
              "4        5  ...                                       Comedy\n",
              "\n",
              "[5 rows x 3 columns]"
            ]
          },
          "metadata": {
            "tags": []
          },
          "execution_count": 125
        }
      ]
    },
    {
      "cell_type": "code",
      "metadata": {
        "id": "foiQQkQH_Pru",
        "colab_type": "code",
        "colab": {
          "base_uri": "https://localhost:8080/",
          "height": 204
        },
        "outputId": "d148642d-f241-423b-a774-7afce28f66c1"
      },
      "source": [
        "ratings = pd.read_csv('drive/My Drive/Estudos Python/QuarentenaDados - Alura/dados/ratings.csv')\n",
        "ratings.head()"
      ],
      "execution_count": null,
      "outputs": [
        {
          "output_type": "execute_result",
          "data": {
            "text/html": [
              "<div>\n",
              "<style scoped>\n",
              "    .dataframe tbody tr th:only-of-type {\n",
              "        vertical-align: middle;\n",
              "    }\n",
              "\n",
              "    .dataframe tbody tr th {\n",
              "        vertical-align: top;\n",
              "    }\n",
              "\n",
              "    .dataframe thead th {\n",
              "        text-align: right;\n",
              "    }\n",
              "</style>\n",
              "<table border=\"1\" class=\"dataframe\">\n",
              "  <thead>\n",
              "    <tr style=\"text-align: right;\">\n",
              "      <th></th>\n",
              "      <th>userId</th>\n",
              "      <th>movieId</th>\n",
              "      <th>rating</th>\n",
              "      <th>timestamp</th>\n",
              "    </tr>\n",
              "  </thead>\n",
              "  <tbody>\n",
              "    <tr>\n",
              "      <th>0</th>\n",
              "      <td>1</td>\n",
              "      <td>1</td>\n",
              "      <td>4.0</td>\n",
              "      <td>964982703</td>\n",
              "    </tr>\n",
              "    <tr>\n",
              "      <th>1</th>\n",
              "      <td>1</td>\n",
              "      <td>3</td>\n",
              "      <td>4.0</td>\n",
              "      <td>964981247</td>\n",
              "    </tr>\n",
              "    <tr>\n",
              "      <th>2</th>\n",
              "      <td>1</td>\n",
              "      <td>6</td>\n",
              "      <td>4.0</td>\n",
              "      <td>964982224</td>\n",
              "    </tr>\n",
              "    <tr>\n",
              "      <th>3</th>\n",
              "      <td>1</td>\n",
              "      <td>47</td>\n",
              "      <td>5.0</td>\n",
              "      <td>964983815</td>\n",
              "    </tr>\n",
              "    <tr>\n",
              "      <th>4</th>\n",
              "      <td>1</td>\n",
              "      <td>50</td>\n",
              "      <td>5.0</td>\n",
              "      <td>964982931</td>\n",
              "    </tr>\n",
              "  </tbody>\n",
              "</table>\n",
              "</div>"
            ],
            "text/plain": [
              "   userId  movieId  rating  timestamp\n",
              "0       1        1     4.0  964982703\n",
              "1       1        3     4.0  964981247\n",
              "2       1        6     4.0  964982224\n",
              "3       1       47     5.0  964983815\n",
              "4       1       50     5.0  964982931"
            ]
          },
          "metadata": {
            "tags": []
          },
          "execution_count": 126
        }
      ]
    },
    {
      "cell_type": "markdown",
      "metadata": {
        "id": "0YXKkUcn_o5Y",
        "colab_type": "text"
      },
      "source": [
        "Usando o barplot do Seaborn"
      ]
    },
    {
      "cell_type": "code",
      "metadata": {
        "id": "nDvWK4-B-o9X",
        "colab_type": "code",
        "colab": {
          "base_uri": "https://localhost:8080/",
          "height": 85
        },
        "outputId": "e8912906-1bae-4f34-ec23-da51f40e95cd"
      },
      "source": [
        "unique_genres = pd.DataFrame(movies['genres'].str.split(\"|\").to_list()).stack()\n",
        "unique_genres = unique_genres.reset_index()\n",
        "unique_genres = unique_genres.drop(columns=['level_0','level_1'])\n",
        "unique_genres.columns = ['genre']\n",
        "genres = unique_genres['genre'].unique()\n",
        "genres"
      ],
      "execution_count": null,
      "outputs": [
        {
          "output_type": "execute_result",
          "data": {
            "text/plain": [
              "array(['Adventure', 'Animation', 'Children', 'Comedy', 'Fantasy',\n",
              "       'Romance', 'Drama', 'Action', 'Crime', 'Thriller', 'Horror',\n",
              "       'Mystery', 'Sci-Fi', 'War', 'Musical', 'Documentary', 'IMAX',\n",
              "       'Western', 'Film-Noir', '(no genres listed)'], dtype=object)"
            ]
          },
          "metadata": {
            "tags": []
          },
          "execution_count": 127
        }
      ]
    },
    {
      "cell_type": "code",
      "metadata": {
        "id": "VjGjC-P--vGs",
        "colab_type": "code",
        "colab": {
          "base_uri": "https://localhost:8080/",
          "height": 374
        },
        "outputId": "e53f768c-eb1f-4a43-e4ce-6927f345d7f1"
      },
      "source": [
        "genres_quantity = unique_genres['genre'].value_counts()\n",
        "genres_quantity"
      ],
      "execution_count": null,
      "outputs": [
        {
          "output_type": "execute_result",
          "data": {
            "text/plain": [
              "Drama                 4361\n",
              "Comedy                3756\n",
              "Thriller              1894\n",
              "Action                1828\n",
              "Romance               1596\n",
              "Adventure             1263\n",
              "Crime                 1199\n",
              "Sci-Fi                 980\n",
              "Horror                 978\n",
              "Fantasy                779\n",
              "Children               664\n",
              "Animation              611\n",
              "Mystery                573\n",
              "Documentary            440\n",
              "War                    382\n",
              "Musical                334\n",
              "Western                167\n",
              "IMAX                   158\n",
              "Film-Noir               87\n",
              "(no genres listed)      34\n",
              "Name: genre, dtype: int64"
            ]
          },
          "metadata": {
            "tags": []
          },
          "execution_count": 128
        }
      ]
    },
    {
      "cell_type": "code",
      "metadata": {
        "id": "Joq2BY3L_Eur",
        "colab_type": "code",
        "colab": {
          "base_uri": "https://localhost:8080/",
          "height": 374
        },
        "outputId": "85c0aa8a-b599-433a-93ee-894a9da8633c"
      },
      "source": [
        "import seaborn as sns\n",
        "\n",
        "plt.figure(figsize=(12,6))\n",
        "sns.barplot(x=genres_quantity.index, y=genres_quantity.values)\n",
        "plt.show()"
      ],
      "execution_count": null,
      "outputs": [
        {
          "output_type": "display_data",
          "data": {
            "image/png": "[encoded data removed]",
            "text/plain": [
              "<Figure size 864x432 with 1 Axes>"
            ]
          },
          "metadata": {
            "tags": []
          }
        }
      ]
    },
    {
      "cell_type": "markdown",
      "metadata": {
        "id": "DsMqqvwNA1zQ",
        "colab_type": "text"
      },
      "source": [
        "Mudando a palette do nosso gráfico para que fique em uma palette sequencial. Também, não esquecendo de colocar o número de cores que você quer, dado que por default é 6, logo ela vai se repetindo pelo gráfico (Não queremos isso!)"
      ]
    },
    {
      "cell_type": "code",
      "metadata": {
        "id": "CX9mdFubAOkE",
        "colab_type": "code",
        "colab": {
          "base_uri": "https://localhost:8080/",
          "height": 374
        },
        "outputId": "db8e0d75-22ad-4bd8-c8f7-59ad77bcbf21"
      },
      "source": [
        "sns.set_style(\"whitegrid\") #colocar as linhas horizontais para facilitar a visualização\n",
        "plt.figure(figsize=(12,6))\n",
        "sns.barplot(x=genres_quantity.index, y=genres_quantity.values, palette=sns.color_palette(\"BuGn_r\",n_colors=len(genres_quantity) + 12)) #esse +12 é uma gambiarra para que os últimos não fiquem tão claros\n",
        "plt.show()"
      ],
      "execution_count": null,
      "outputs": [
        {
          "output_type": "display_data",
          "data": {
            "image/png": "[encoded data removed]",
            "text/plain": [
              "<Figure size 864x432 with 1 Axes>"
            ]
          },
          "metadata": {
            "tags": []
          }
        }
      ]
    },
    {
      "cell_type": "markdown",
      "metadata": {
        "id": "6JbG8sk8SIRk",
        "colab_type": "text"
      },
      "source": [
        "Printando a nota média do filme de Id igual a 1 e a sua respectiva distribuição de notas"
      ]
    },
    {
      "cell_type": "code",
      "metadata": {
        "id": "4UPoRRhuBbcz",
        "colab_type": "code",
        "colab": {
          "base_uri": "https://localhost:8080/",
          "height": 299
        },
        "outputId": "8c2ed674-f772-4571-dd7b-e099db242635"
      },
      "source": [
        "rating_movie1 = ratings.query(\"movieId == 1\")['rating']\n",
        "print(rating_movie1.mean())\n",
        "rating_movie1.plot(kind='hist')"
      ],
      "execution_count": null,
      "outputs": [
        {
          "output_type": "stream",
          "text": [
            "3.9209302325581397\n"
          ],
          "name": "stdout"
        },
        {
          "output_type": "execute_result",
          "data": {
            "text/plain": [
              "<matplotlib.axes._subplots.AxesSubplot at 0x7faf7f81d198>"
            ]
          },
          "metadata": {
            "tags": []
          },
          "execution_count": 131
        },
        {
          "output_type": "display_data",
          "data": {
            "image/png": "[encoded data removed]",
            "text/plain": [
              "<Figure size 432x288 with 1 Axes>"
            ]
          },
          "metadata": {
            "tags": []
          }
        }
      ]
    },
    {
      "cell_type": "markdown",
      "metadata": {
        "id": "7-I_u6vtSTbS",
        "colab_type": "text"
      },
      "source": [
        "Fazendo o mesmo com o filme 2"
      ]
    },
    {
      "cell_type": "code",
      "metadata": {
        "id": "lDklzfoZSWyX",
        "colab_type": "code",
        "colab": {
          "base_uri": "https://localhost:8080/",
          "height": 299
        },
        "outputId": "023d610d-a678-44ab-8194-7212035ce715"
      },
      "source": [
        "rating_movie2 = ratings.query(\"movieId == 2\")['rating']\n",
        "print(rating_movie2.mean())\n",
        "ratings.query(\"movieId == 2\")['rating'].plot(kind='hist')"
      ],
      "execution_count": null,
      "outputs": [
        {
          "output_type": "stream",
          "text": [
            "3.4318181818181817\n"
          ],
          "name": "stdout"
        },
        {
          "output_type": "execute_result",
          "data": {
            "text/plain": [
              "<matplotlib.axes._subplots.AxesSubplot at 0x7faf80016c88>"
            ]
          },
          "metadata": {
            "tags": []
          },
          "execution_count": 132
        },
        {
          "output_type": "display_data",
          "data": {
            "image/png": "[encoded data removed]",
            "text/plain": [
              "<Figure size 432x288 with 1 Axes>"
            ]
          },
          "metadata": {
            "tags": []
          }
        }
      ]
    },
    {
      "cell_type": "markdown",
      "metadata": {
        "id": "y5XRxrNeUv4S",
        "colab_type": "text"
      },
      "source": [
        "Como a média pode se fazer uma medida perigosa, devemos, dependendo da distribuição dos nossos dados, medir a centralidade dos mesmos de uma maneira diferente da média. Lembra que Justice League: Doom tinha média 5, mas apenas uma pessoa havia votado nele? Então, esse é um dos exemplos da periculosidade da média como medida de centralidade dependendo da distribuição dos dados. A média não conta a história por trás dos dados, por isso pode ser tão perigosa."
      ]
    },
    {
      "cell_type": "markdown",
      "metadata": {
        "id": "7rjFbYaCVoON",
        "colab_type": "text"
      },
      "source": [
        "Vejamos, então, a medida de centralidade Mediana, a qual é o valor que separa a metade maior e a metade menor de uma amostra, ou seja, a Mediana pode ser o valor do meio de um conjunto de dados."
      ]
    },
    {
      "cell_type": "code",
      "metadata": {
        "id": "1TJQzho7VXFu",
        "colab_type": "code",
        "colab": {
          "base_uri": "https://localhost:8080/",
          "height": 170
        },
        "outputId": "c97aa7b0-a089-482b-dc34-96118a9f6cf9"
      },
      "source": [
        "#Descrição estatística do Filme de Id 1, Toy Story\n",
        "rating_movie1.describe()"
      ],
      "execution_count": null,
      "outputs": [
        {
          "output_type": "execute_result",
          "data": {
            "text/plain": [
              "count    215.000000\n",
              "mean       3.920930\n",
              "std        0.834859\n",
              "min        0.500000\n",
              "25%        3.500000\n",
              "50%        4.000000\n",
              "75%        4.500000\n",
              "max        5.000000\n",
              "Name: rating, dtype: float64"
            ]
          },
          "metadata": {
            "tags": []
          },
          "execution_count": 133
        }
      ]
    },
    {
      "cell_type": "code",
      "metadata": {
        "id": "FxLOh5wAWmdr",
        "colab_type": "code",
        "colab": {
          "base_uri": "https://localhost:8080/",
          "height": 170
        },
        "outputId": "e6558897-0e7d-427b-fab9-7cb2579fb197"
      },
      "source": [
        "#Descrição estatística do Filme de Id 2, Jumanji\n",
        "rating_movie2.describe()"
      ],
      "execution_count": null,
      "outputs": [
        {
          "output_type": "execute_result",
          "data": {
            "text/plain": [
              "count    110.000000\n",
              "mean       3.431818\n",
              "std        0.881713\n",
              "min        0.500000\n",
              "25%        3.000000\n",
              "50%        3.500000\n",
              "75%        4.000000\n",
              "max        5.000000\n",
              "Name: rating, dtype: float64"
            ]
          },
          "metadata": {
            "tags": []
          },
          "execution_count": 134
        }
      ]
    },
    {
      "cell_type": "code",
      "metadata": {
        "id": "mjHAAIUsW7FW",
        "colab_type": "code",
        "colab": {
          "base_uri": "https://localhost:8080/",
          "height": 170
        },
        "outputId": "5e696823-5908-4fd4-fcf5-a4324910c51b"
      },
      "source": [
        "#Descrição estatística do Filme de Id 102084, Justice League: Doom\n",
        "rating_movie102084 = ratings.query(\"movieId == 102084\")['rating']\n",
        "rating_movie102084.describe()"
      ],
      "execution_count": null,
      "outputs": [
        {
          "output_type": "execute_result",
          "data": {
            "text/plain": [
              "count    1.0\n",
              "mean     5.0\n",
              "std      NaN\n",
              "min      5.0\n",
              "25%      5.0\n",
              "50%      5.0\n",
              "75%      5.0\n",
              "max      5.0\n",
              "Name: rating, dtype: float64"
            ]
          },
          "metadata": {
            "tags": []
          },
          "execution_count": 135
        }
      ]
    },
    {
      "cell_type": "code",
      "metadata": {
        "id": "-7tmjHvk_lRZ",
        "colab_type": "code",
        "colab": {
          "base_uri": "https://localhost:8080/",
          "height": 204
        },
        "outputId": "f059b12e-42c6-46ce-e2dc-de36140cdbe1"
      },
      "source": [
        "mean_ratings = ratings.groupby('movieId')['rating'].mean()\n",
        "movies_with_mean = movies.join(mean_ratings, on='movieId')\n",
        "movies_with_mean = movies_with_mean.rename(columns={'rating': 'mean_rating'})\n",
        "\n",
        "count_rating = ratings.groupby('movieId')['rating'].count()\n",
        "\n",
        "movies_with_mean_count = movies_with_mean.join(count_rating, on='movieId')\n",
        "movies_with_mean_count = movies_with_mean_count.rename(columns={'rating':'quantity_rating'})\n",
        "movies_with_mean_count['mean_rating'] = round(movies_with_mean_count['mean_rating'],2)\n",
        "movies_with_mean_count.head()"
      ],
      "execution_count": null,
      "outputs": [
        {
          "output_type": "execute_result",
          "data": {
            "text/html": [
              "<div>\n",
              "<style scoped>\n",
              "    .dataframe tbody tr th:only-of-type {\n",
              "        vertical-align: middle;\n",
              "    }\n",
              "\n",
              "    .dataframe tbody tr th {\n",
              "        vertical-align: top;\n",
              "    }\n",
              "\n",
              "    .dataframe thead th {\n",
              "        text-align: right;\n",
              "    }\n",
              "</style>\n",
              "<table border=\"1\" class=\"dataframe\">\n",
              "  <thead>\n",
              "    <tr style=\"text-align: right;\">\n",
              "      <th></th>\n",
              "      <th>movieId</th>\n",
              "      <th>title</th>\n",
              "      <th>genres</th>\n",
              "      <th>mean_rating</th>\n",
              "      <th>quantity_rating</th>\n",
              "    </tr>\n",
              "  </thead>\n",
              "  <tbody>\n",
              "    <tr>\n",
              "      <th>0</th>\n",
              "      <td>1</td>\n",
              "      <td>Toy Story (1995)</td>\n",
              "      <td>Adventure|Animation|Children|Comedy|Fantasy</td>\n",
              "      <td>3.92</td>\n",
              "      <td>215.0</td>\n",
              "    </tr>\n",
              "    <tr>\n",
              "      <th>1</th>\n",
              "      <td>2</td>\n",
              "      <td>Jumanji (1995)</td>\n",
              "      <td>Adventure|Children|Fantasy</td>\n",
              "      <td>3.43</td>\n",
              "      <td>110.0</td>\n",
              "    </tr>\n",
              "    <tr>\n",
              "      <th>2</th>\n",
              "      <td>3</td>\n",
              "      <td>Grumpier Old Men (1995)</td>\n",
              "      <td>Comedy|Romance</td>\n",
              "      <td>3.26</td>\n",
              "      <td>52.0</td>\n",
              "    </tr>\n",
              "    <tr>\n",
              "      <th>3</th>\n",
              "      <td>4</td>\n",
              "      <td>Waiting to Exhale (1995)</td>\n",
              "      <td>Comedy|Drama|Romance</td>\n",
              "      <td>2.36</td>\n",
              "      <td>7.0</td>\n",
              "    </tr>\n",
              "    <tr>\n",
              "      <th>4</th>\n",
              "      <td>5</td>\n",
              "      <td>Father of the Bride Part II (1995)</td>\n",
              "      <td>Comedy</td>\n",
              "      <td>3.07</td>\n",
              "      <td>49.0</td>\n",
              "    </tr>\n",
              "  </tbody>\n",
              "</table>\n",
              "</div>"
            ],
            "text/plain": [
              "   movieId                               title  ... mean_rating  quantity_rating\n",
              "0        1                    Toy Story (1995)  ...        3.92            215.0\n",
              "1        2                      Jumanji (1995)  ...        3.43            110.0\n",
              "2        3             Grumpier Old Men (1995)  ...        3.26             52.0\n",
              "3        4            Waiting to Exhale (1995)  ...        2.36              7.0\n",
              "4        5  Father of the Bride Part II (1995)  ...        3.07             49.0\n",
              "\n",
              "[5 rows x 5 columns]"
            ]
          },
          "metadata": {
            "tags": []
          },
          "execution_count": 136
        }
      ]
    },
    {
      "cell_type": "code",
      "metadata": {
        "id": "MtGG_AcIYHLD",
        "colab_type": "code",
        "colab": {
          "base_uri": "https://localhost:8080/",
          "height": 419
        },
        "outputId": "d0e03e76-fa5b-4ac7-e7be-56bf6c223ce6"
      },
      "source": [
        "movies_with_mean_count.sort_values('mean_rating', ascending=False)[7500:7600]"
      ],
      "execution_count": null,
      "outputs": [
        {
          "output_type": "execute_result",
          "data": {
            "text/html": [
              "<div>\n",
              "<style scoped>\n",
              "    .dataframe tbody tr th:only-of-type {\n",
              "        vertical-align: middle;\n",
              "    }\n",
              "\n",
              "    .dataframe tbody tr th {\n",
              "        vertical-align: top;\n",
              "    }\n",
              "\n",
              "    .dataframe thead th {\n",
              "        text-align: right;\n",
              "    }\n",
              "</style>\n",
              "<table border=\"1\" class=\"dataframe\">\n",
              "  <thead>\n",
              "    <tr style=\"text-align: right;\">\n",
              "      <th></th>\n",
              "      <th>movieId</th>\n",
              "      <th>title</th>\n",
              "      <th>genres</th>\n",
              "      <th>mean_rating</th>\n",
              "      <th>quantity_rating</th>\n",
              "    </tr>\n",
              "  </thead>\n",
              "  <tbody>\n",
              "    <tr>\n",
              "      <th>559</th>\n",
              "      <td>673</td>\n",
              "      <td>Space Jam (1996)</td>\n",
              "      <td>Adventure|Animation|Children|Comedy|Fantasy|Sc...</td>\n",
              "      <td>2.71</td>\n",
              "      <td>53.0</td>\n",
              "    </tr>\n",
              "    <tr>\n",
              "      <th>1466</th>\n",
              "      <td>1991</td>\n",
              "      <td>Child's Play (1988)</td>\n",
              "      <td>Horror|Thriller</td>\n",
              "      <td>2.71</td>\n",
              "      <td>12.0</td>\n",
              "    </tr>\n",
              "    <tr>\n",
              "      <th>6693</th>\n",
              "      <td>58293</td>\n",
              "      <td>10,000 BC (2008)</td>\n",
              "      <td>Adventure|Romance|Thriller</td>\n",
              "      <td>2.71</td>\n",
              "      <td>17.0</td>\n",
              "    </tr>\n",
              "    <tr>\n",
              "      <th>1811</th>\n",
              "      <td>2411</td>\n",
              "      <td>Rocky IV (1985)</td>\n",
              "      <td>Action|Drama</td>\n",
              "      <td>2.71</td>\n",
              "      <td>29.0</td>\n",
              "    </tr>\n",
              "    <tr>\n",
              "      <th>1548</th>\n",
              "      <td>2084</td>\n",
              "      <td>Newsies (1992)</td>\n",
              "      <td>Children|Musical</td>\n",
              "      <td>2.70</td>\n",
              "      <td>5.0</td>\n",
              "    </tr>\n",
              "    <tr>\n",
              "      <th>...</th>\n",
              "      <td>...</td>\n",
              "      <td>...</td>\n",
              "      <td>...</td>\n",
              "      <td>...</td>\n",
              "      <td>...</td>\n",
              "    </tr>\n",
              "    <tr>\n",
              "      <th>1605</th>\n",
              "      <td>2147</td>\n",
              "      <td>Clan of the Cave Bear, The (1986)</td>\n",
              "      <td>Adventure|Drama|Fantasy</td>\n",
              "      <td>2.67</td>\n",
              "      <td>3.0</td>\n",
              "    </tr>\n",
              "    <tr>\n",
              "      <th>9181</th>\n",
              "      <td>149352</td>\n",
              "      <td>Daddy's Home (2015)</td>\n",
              "      <td>Comedy</td>\n",
              "      <td>2.67</td>\n",
              "      <td>6.0</td>\n",
              "    </tr>\n",
              "    <tr>\n",
              "      <th>4017</th>\n",
              "      <td>5678</td>\n",
              "      <td>Formula 51 (2001)</td>\n",
              "      <td>Action|Comedy|Crime|Thriller</td>\n",
              "      <td>2.67</td>\n",
              "      <td>3.0</td>\n",
              "    </tr>\n",
              "    <tr>\n",
              "      <th>166</th>\n",
              "      <td>196</td>\n",
              "      <td>Species (1995)</td>\n",
              "      <td>Horror|Sci-Fi</td>\n",
              "      <td>2.67</td>\n",
              "      <td>45.0</td>\n",
              "    </tr>\n",
              "    <tr>\n",
              "      <th>3490</th>\n",
              "      <td>4771</td>\n",
              "      <td>Hardball (2001)</td>\n",
              "      <td>Drama</td>\n",
              "      <td>2.67</td>\n",
              "      <td>3.0</td>\n",
              "    </tr>\n",
              "  </tbody>\n",
              "</table>\n",
              "<p>100 rows × 5 columns</p>\n",
              "</div>"
            ],
            "text/plain": [
              "      movieId                              title  ... mean_rating  quantity_rating\n",
              "559       673                   Space Jam (1996)  ...        2.71             53.0\n",
              "1466     1991                Child's Play (1988)  ...        2.71             12.0\n",
              "6693    58293                   10,000 BC (2008)  ...        2.71             17.0\n",
              "1811     2411                    Rocky IV (1985)  ...        2.71             29.0\n",
              "1548     2084                     Newsies (1992)  ...        2.70              5.0\n",
              "...       ...                                ...  ...         ...              ...\n",
              "1605     2147  Clan of the Cave Bear, The (1986)  ...        2.67              3.0\n",
              "9181   149352                Daddy's Home (2015)  ...        2.67              6.0\n",
              "4017     5678                  Formula 51 (2001)  ...        2.67              3.0\n",
              "166       196                     Species (1995)  ...        2.67             45.0\n",
              "3490     4771                    Hardball (2001)  ...        2.67              3.0\n",
              "\n",
              "[100 rows x 5 columns]"
            ]
          },
          "metadata": {
            "tags": []
          },
          "execution_count": 137
        }
      ]
    },
    {
      "cell_type": "markdown",
      "metadata": {
        "id": "dbtT4w8vZhA0",
        "colab_type": "text"
      },
      "source": [
        "Vamos fazer uma função que nos retorne o histograma da distribuição de notas e o describe do filme cujo Id passamos como parâmetro."
      ]
    },
    {
      "cell_type": "code",
      "metadata": {
        "id": "pahrFirWZsoo",
        "colab_type": "code",
        "colab": {}
      },
      "source": [
        "def plot_movie(n):\n",
        "  rating_movie = ratings.query(f\"movieId =={n}\")['rating']\n",
        "  rating_movie.plot(kind='hist')\n",
        "  print(rating_movie.describe())"
      ],
      "execution_count": null,
      "outputs": []
    },
    {
      "cell_type": "code",
      "metadata": {
        "id": "5mErvVA2a1B7",
        "colab_type": "code",
        "colab": {
          "base_uri": "https://localhost:8080/",
          "height": 418
        },
        "outputId": "996147fe-5460-42fa-ce3e-db4189d87fb3"
      },
      "source": [
        "plot_movie(919) #Mágico de Oz"
      ],
      "execution_count": null,
      "outputs": [
        {
          "output_type": "stream",
          "text": [
            "count    92.000000\n",
            "mean      3.880435\n",
            "std       1.025418\n",
            "min       1.000000\n",
            "25%       3.000000\n",
            "50%       4.000000\n",
            "75%       5.000000\n",
            "max       5.000000\n",
            "Name: rating, dtype: float64\n"
          ],
          "name": "stdout"
        },
        {
          "output_type": "display_data",
          "data": {
            "image/png": "[encoded data removed]",
            "text/plain": [
              "<Figure size 432x288 with 1 Axes>"
            ]
          },
          "metadata": {
            "tags": []
          }
        }
      ]
    },
    {
      "cell_type": "code",
      "metadata": {
        "id": "BfgR1zHLbJNM",
        "colab_type": "code",
        "colab": {
          "base_uri": "https://localhost:8080/",
          "height": 421
        },
        "outputId": "82bbed85-3c27-492e-f756-ee387f06fed0"
      },
      "source": [
        "plot_movie(46578) #Little Miss Sunshine"
      ],
      "execution_count": null,
      "outputs": [
        {
          "output_type": "stream",
          "text": [
            "count    77.000000\n",
            "mean      3.883117\n",
            "std       0.842522\n",
            "min       1.000000\n",
            "25%       3.500000\n",
            "50%       4.000000\n",
            "75%       4.500000\n",
            "max       5.000000\n",
            "Name: rating, dtype: float64\n"
          ],
          "name": "stdout"
        },
        {
          "output_type": "display_data",
          "data": {
            "image/png": "[encoded data removed]",
            "text/plain": [
              "<Figure size 432x288 with 1 Axes>"
            ]
          },
          "metadata": {
            "tags": []
          }
        }
      ]
    },
    {
      "cell_type": "markdown",
      "metadata": {
        "id": "pLPTAlKzcAd9",
        "colab_type": "text"
      },
      "source": [
        "Note que, Mágico de Oz e Little Miss Sunshine possuem médias muito próximas, mas perceba diferença nos gráficos! Perceba a diferença nas distribuições dos dados desses dois filmes!"
      ]
    },
    {
      "cell_type": "markdown",
      "metadata": {
        "id": "TYD4KYycc5Rm",
        "colab_type": "text"
      },
      "source": [
        "Portanto, podemos ver que é muito interessante tomar outras medidas de centralidade e não apenas a média!"
      ]
    },
    {
      "cell_type": "markdown",
      "metadata": {
        "id": "hKI24kfzdtyK",
        "colab_type": "text"
      },
      "source": [
        "Há outras maneiras de ver distribuição das notas do que apenas o gráfico de histograma. Há um outro tipo de gráfico que nos permite comparar a mediana e a distribuição inteira de maneira mais eficiente. Estamos falando do gráfico boxplot."
      ]
    },
    {
      "cell_type": "code",
      "metadata": {
        "id": "Jipqh_kCgycj",
        "colab_type": "code",
        "colab": {}
      },
      "source": [
        "def boxplot_movie(n):\n",
        "  rating_movie = ratings.query(f\"movieId =={n}\")['rating']\n",
        "  rating_movie.plot(kind='hist')\n",
        "  plt.show()\n",
        "  rating_movie.plot.box()\n",
        "  plt.show()\n",
        "  print(rating_movie.describe())"
      ],
      "execution_count": null,
      "outputs": []
    },
    {
      "cell_type": "code",
      "metadata": {
        "id": "R1ePsZ7lhSi-",
        "colab_type": "code",
        "colab": {
          "base_uri": "https://localhost:8080/",
          "height": 666
        },
        "outputId": "52e0c15a-f32d-42cc-f5f2-faa7555e6311"
      },
      "source": [
        "boxplot_movie(919)"
      ],
      "execution_count": null,
      "outputs": [
        {
          "output_type": "display_data",
          "data": {
            "image/png": "[encoded data removed]",
            "text/plain": [
              "<Figure size 432x288 with 1 Axes>"
            ]
          },
          "metadata": {
            "tags": []
          }
        },
        {
          "output_type": "display_data",
          "data": {
            "image/png": "[encoded data removed]",
            "text/plain": [
              "<Figure size 432x288 with 1 Axes>"
            ]
          },
          "metadata": {
            "tags": []
          }
        },
        {
          "output_type": "stream",
          "text": [
            "count    92.000000\n",
            "mean      3.880435\n",
            "std       1.025418\n",
            "min       1.000000\n",
            "25%       3.000000\n",
            "50%       4.000000\n",
            "75%       5.000000\n",
            "max       5.000000\n",
            "Name: rating, dtype: float64\n"
          ],
          "name": "stdout"
        }
      ]
    },
    {
      "cell_type": "markdown",
      "metadata": {
        "id": "1FBjEb28hfWV",
        "colab_type": "text"
      },
      "source": [
        "Nesse gráfico boxplot, comparando com o describe, conseguimos ver que: a mediana é 4.0 (linha verde no meio do retângulo), a maioria dos valores se encontram entre 3.0 e 5.0 (o retângulo propriamente dito), o valor mínimo se encontra no 1.0 e o valor máximo se encontra no 5.0. (Explicar dessa forma, pode não ser correta para todos os casos, pois essas interpretações do gráfico não são de acordo com alguma definição matemática)."
      ]
    },
    {
      "cell_type": "markdown",
      "metadata": {
        "id": "IkpXrnBdjnwE",
        "colab_type": "text"
      },
      "source": [
        "Vejamos isso para o filme Toy Story"
      ]
    },
    {
      "cell_type": "code",
      "metadata": {
        "id": "rMKjPXAVmBdZ",
        "colab_type": "code",
        "colab": {
          "base_uri": "https://localhost:8080/",
          "height": 666
        },
        "outputId": "6350a219-ad3a-4676-b9f2-2a342c3addf1"
      },
      "source": [
        "boxplot_movie(1)"
      ],
      "execution_count": null,
      "outputs": [
        {
          "output_type": "display_data",
          "data": {
            "image/png": "[encoded data removed]",
            "text/plain": [
              "<Figure size 432x288 with 1 Axes>"
            ]
          },
          "metadata": {
            "tags": []
          }
        },
        {
          "output_type": "display_data",
          "data": {
            "image/png": "[encoded data removed]",
            "text/plain": [
              "<Figure size 432x288 with 1 Axes>"
            ]
          },
          "metadata": {
            "tags": []
          }
        },
        {
          "output_type": "stream",
          "text": [
            "count    215.000000\n",
            "mean       3.920930\n",
            "std        0.834859\n",
            "min        0.500000\n",
            "25%        3.500000\n",
            "50%        4.000000\n",
            "75%        4.500000\n",
            "max        5.000000\n",
            "Name: rating, dtype: float64\n"
          ],
          "name": "stdout"
        }
      ]
    },
    {
      "cell_type": "markdown",
      "metadata": {
        "id": "YsxtwMhJmEiW",
        "colab_type": "text"
      },
      "source": [
        "Repare que aquela explicação não pode ser aplicada a esse boxplot aqui, dado que possuímos esses pontos abaixo do número 2. O que podemos explicar aqui: 2 não é o mínimo, o 2 é o que ele considera sendo, na maioria das notas dessa amostra, a pior nota dada e as notas abaixo de 2 são consideradas outliers (quase ninguém colocou, mas houve ocorrência; um ponto fora da curva)"
      ]
    },
    {
      "cell_type": "markdown",
      "metadata": {
        "id": "tpR2FLwynJeu",
        "colab_type": "text"
      },
      "source": [
        "Usando o boxplot da biblioteca seaborn e aplicando para 4 filmes diferentes. Assim, conseguimos comparar as distribuições desses filmes de maneira mais fácil."
      ]
    },
    {
      "cell_type": "code",
      "metadata": {
        "id": "4zxfRslzjBjq",
        "colab_type": "code",
        "colab": {
          "base_uri": "https://localhost:8080/",
          "height": 296
        },
        "outputId": "89343f4e-2d8e-4739-836e-6e89d371d8aa"
      },
      "source": [
        "sns.boxplot(data=ratings.query(\"movieId in [1,2,919,46578]\"), x=\"movieId\", y=\"rating\")"
      ],
      "execution_count": null,
      "outputs": [
        {
          "output_type": "execute_result",
          "data": {
            "text/plain": [
              "<matplotlib.axes._subplots.AxesSubplot at 0x7faf7f4f1cc0>"
            ]
          },
          "metadata": {
            "tags": []
          },
          "execution_count": 144
        },
        {
          "output_type": "display_data",
          "data": {
            "image/png": "[encoded data removed]",
            "text/plain": [
              "<Figure size 432x288 with 1 Axes>"
            ]
          },
          "metadata": {
            "tags": []
          }
        }
      ]
    },
    {
      "cell_type": "markdown",
      "metadata": {
        "id": "FGOwufJrDxp1",
        "colab_type": "text"
      },
      "source": [
        "##Desafios - Aula 2"
      ]
    },
    {
      "cell_type": "markdown",
      "metadata": {
        "id": "RGLI0SAVD2x0",
        "colab_type": "text"
      },
      "source": [
        "Desafio 1: Rotacionar os thicks do gráfico"
      ]
    },
    {
      "cell_type": "code",
      "metadata": {
        "id": "mn1X1G9Bq7nd",
        "colab_type": "code",
        "colab": {
          "base_uri": "https://localhost:8080/",
          "height": 433
        },
        "outputId": "e1d7429d-c457-42d7-99d7-b63fc230bc89"
      },
      "source": [
        "sns.set_style(\"whitegrid\") #colocar as linhas horizontais para facilitar a visualização\n",
        "plt.figure(figsize=(12,6))\n",
        "plt.xticks(rotation=45) #Rotacionar os thicks do gráfico em 45 graus\n",
        "sns.barplot(x=genres_quantity.index, y=genres_quantity.values,\n",
        "            palette=sns.color_palette(\"BuGn_r\",n_colors=len(genres_quantity) + 12)) #esse +12 é uma gambiarra para que os últimos não fiquem tão claros\n",
        "plt.show()"
      ],
      "execution_count": null,
      "outputs": [
        {
          "output_type": "display_data",
          "data": {
            "image/png": "[encoded data removed]",
            "text/plain": [
              "<Figure size 864x432 with 1 Axes>"
            ]
          },
          "metadata": {
            "tags": []
          }
        }
      ]
    },
    {
      "cell_type": "markdown",
      "metadata": {
        "id": "YNbW1d0rdHVK",
        "colab_type": "text"
      },
      "source": [
        "Desafio 2: Comparar outros filmes com notas médias próximas e achar distribuições bem diferentes"
      ]
    },
    {
      "cell_type": "code",
      "metadata": {
        "id": "XjtevKwetvUl",
        "colab_type": "code",
        "colab": {
          "base_uri": "https://localhost:8080/",
          "height": 666
        },
        "outputId": "5c0d9c24-963b-429e-bf8c-af51085faeb5"
      },
      "source": [
        "boxplot_movie(127108) #Brooklin"
      ],
      "execution_count": null,
      "outputs": [
        {
          "output_type": "display_data",
          "data": {
            "image/png": "[encoded data removed]",
            "text/plain": [
              "<Figure size 432x288 with 1 Axes>"
            ]
          },
          "metadata": {
            "tags": []
          }
        },
        {
          "output_type": "display_data",
          "data": {
            "image/png": "[encoded data removed]",
            "text/plain": [
              "<Figure size 432x288 with 1 Axes>"
            ]
          },
          "metadata": {
            "tags": []
          }
        },
        {
          "output_type": "stream",
          "text": [
            "count    4.000000\n",
            "mean     3.875000\n",
            "std      1.314978\n",
            "min      2.000000\n",
            "25%      3.500000\n",
            "50%      4.250000\n",
            "75%      4.625000\n",
            "max      5.000000\n",
            "Name: rating, dtype: float64\n"
          ],
          "name": "stdout"
        }
      ]
    },
    {
      "cell_type": "code",
      "metadata": {
        "id": "aQkLCUTyt8Vm",
        "colab_type": "code",
        "colab": {
          "base_uri": "https://localhost:8080/",
          "height": 666
        },
        "outputId": "f9cdbf96-9410-468e-98fb-ea2ddf76a5fa"
      },
      "source": [
        "boxplot_movie(187593) #Deadpool 2"
      ],
      "execution_count": null,
      "outputs": [
        {
          "output_type": "display_data",
          "data": {
            "image/png": "[encoded data removed]",
            "text/plain": [
              "<Figure size 432x288 with 1 Axes>"
            ]
          },
          "metadata": {
            "tags": []
          }
        },
        {
          "output_type": "display_data",
          "data": {
            "image/png": "[encoded data removed]",
            "text/plain": [
              "<Figure size 432x288 with 1 Axes>"
            ]
          },
          "metadata": {
            "tags": []
          }
        },
        {
          "output_type": "stream",
          "text": [
            "count    12.000000\n",
            "mean      3.875000\n",
            "std       1.227062\n",
            "min       1.000000\n",
            "25%       3.375000\n",
            "50%       4.000000\n",
            "75%       5.000000\n",
            "max       5.000000\n",
            "Name: rating, dtype: float64\n"
          ],
          "name": "stdout"
        }
      ]
    },
    {
      "cell_type": "markdown",
      "metadata": {
        "id": "JY7nGZSQue8W",
        "colab_type": "text"
      },
      "source": [
        "Brooklin e Deadpool 2 possuem poucas avaliações, mas possuem a mesma nota média: 3.875. Porém, conseguimos ver tanto pelos seus respectivos histogramas quanto pelos seus describes as grandes diferenças que eles têm entre si. Por exemplo, Brooklin possui mediana de 4.25, enquanto que Deadpool 2 possui 4.0. Além disso, Brooklin possui nota mínima igual a 2.0, enquanto que Deadpool 2 possui 1.0. Dentre outras diferenças."
      ]
    },
    {
      "cell_type": "code",
      "metadata": {
        "id": "3QSP9Q9YvdSl",
        "colab_type": "code",
        "colab": {
          "base_uri": "https://localhost:8080/",
          "height": 666
        },
        "outputId": "e7986859-bd5e-4dc6-946e-3c6a36f780c8"
      },
      "source": [
        "boxplot_movie(4148) #Hannibal"
      ],
      "execution_count": null,
      "outputs": [
        {
          "output_type": "display_data",
          "data": {
            "image/png": "[encoded data removed]",
            "text/plain": [
              "<Figure size 432x288 with 1 Axes>"
            ]
          },
          "metadata": {
            "tags": []
          }
        },
        {
          "output_type": "display_data",
          "data": {
            "image/png": "[encoded data removed]",
            "text/plain": [
              "<Figure size 432x288 with 1 Axes>"
            ]
          },
          "metadata": {
            "tags": []
          }
        },
        {
          "output_type": "stream",
          "text": [
            "count    39.000000\n",
            "mean      2.935897\n",
            "std       1.142363\n",
            "min       0.500000\n",
            "25%       2.000000\n",
            "50%       3.000000\n",
            "75%       4.000000\n",
            "max       5.000000\n",
            "Name: rating, dtype: float64\n"
          ],
          "name": "stdout"
        }
      ]
    },
    {
      "cell_type": "code",
      "metadata": {
        "id": "xjPIVyuZwqjv",
        "colab_type": "code",
        "colab": {
          "base_uri": "https://localhost:8080/",
          "height": 666
        },
        "outputId": "ca854835-b878-40e4-cb5b-c055d06ca280"
      },
      "source": [
        "boxplot_movie(1590) #Event Horizon"
      ],
      "execution_count": null,
      "outputs": [
        {
          "output_type": "display_data",
          "data": {
            "image/png": "[encoded data removed]",
            "text/plain": [
              "<Figure size 432x288 with 1 Axes>"
            ]
          },
          "metadata": {
            "tags": []
          }
        },
        {
          "output_type": "display_data",
          "data": {
            "image/png": "[encoded data removed]",
            "text/plain": [
              "<Figure size 432x288 with 1 Axes>"
            ]
          },
          "metadata": {
            "tags": []
          }
        },
        {
          "output_type": "stream",
          "text": [
            "count    25.000000\n",
            "mean      2.940000\n",
            "std       1.023882\n",
            "min       1.000000\n",
            "25%       2.000000\n",
            "50%       3.000000\n",
            "75%       4.000000\n",
            "max       5.000000\n",
            "Name: rating, dtype: float64\n"
          ],
          "name": "stdout"
        }
      ]
    },
    {
      "cell_type": "markdown",
      "metadata": {
        "id": "zkC7FqPswwCG",
        "colab_type": "text"
      },
      "source": [
        "Hannibal e Event Horizon possuem a mesma média (arredondada): 2.94. Porém, possuem uma distribuição de dados bem diferente"
      ]
    },
    {
      "cell_type": "code",
      "metadata": {
        "id": "lA8xDG3Vx_KS",
        "colab_type": "code",
        "colab": {
          "base_uri": "https://localhost:8080/",
          "height": 666
        },
        "outputId": "239e260c-69ce-4c32-bfe8-42432377bc88"
      },
      "source": [
        "boxplot_movie(673) #Space Jam"
      ],
      "execution_count": null,
      "outputs": [
        {
          "output_type": "display_data",
          "data": {
            "image/png": "[encoded data removed]",
            "text/plain": [
              "<Figure size 432x288 with 1 Axes>"
            ]
          },
          "metadata": {
            "tags": []
          }
        },
        {
          "output_type": "display_data",
          "data": {
            "image/png": "[encoded data removed]",
            "text/plain": [
              "<Figure size 432x288 with 1 Axes>"
            ]
          },
          "metadata": {
            "tags": []
          }
        },
        {
          "output_type": "stream",
          "text": [
            "count    53.000000\n",
            "mean      2.707547\n",
            "std       1.128452\n",
            "min       0.500000\n",
            "25%       2.000000\n",
            "50%       3.000000\n",
            "75%       3.500000\n",
            "max       5.000000\n",
            "Name: rating, dtype: float64\n"
          ],
          "name": "stdout"
        }
      ]
    },
    {
      "cell_type": "code",
      "metadata": {
        "id": "Rs7v6bGOyF0x",
        "colab_type": "code",
        "colab": {
          "base_uri": "https://localhost:8080/",
          "height": 666
        },
        "outputId": "d236c607-9956-4248-89e7-da2183ee0950"
      },
      "source": [
        "boxplot_movie(196) #Species"
      ],
      "execution_count": null,
      "outputs": [
        {
          "output_type": "display_data",
          "data": {
            "image/png": "[encoded data removed]",
            "text/plain": [
              "<Figure size 432x288 with 1 Axes>"
            ]
          },
          "metadata": {
            "tags": []
          }
        },
        {
          "output_type": "display_data",
          "data": {
            "image/png": "[encoded data removed]",
            "text/plain": [
              "<Figure size 432x288 with 1 Axes>"
            ]
          },
          "metadata": {
            "tags": []
          }
        },
        {
          "output_type": "stream",
          "text": [
            "count    45.000000\n",
            "mean      2.666667\n",
            "std       0.917011\n",
            "min       0.500000\n",
            "25%       2.000000\n",
            "50%       3.000000\n",
            "75%       3.000000\n",
            "max       4.000000\n",
            "Name: rating, dtype: float64\n"
          ],
          "name": "stdout"
        }
      ]
    },
    {
      "cell_type": "markdown",
      "metadata": {
        "id": "8Jcti-UmyOD-",
        "colab_type": "text"
      },
      "source": [
        "Space Jam e Species não possuem médias exatamente iguais, mas possuem médias quase iguais. Porém, perceba que possuem distribuições bem diferentes!"
      ]
    },
    {
      "cell_type": "markdown",
      "metadata": {
        "id": "7hw8eRoSitty",
        "colab_type": "text"
      },
      "source": [
        "Desafio 3: Criar o boxplot dos 10 filmes com mais votos"
      ]
    },
    {
      "cell_type": "code",
      "metadata": {
        "id": "4SsFvhE0ye8p",
        "colab_type": "code",
        "colab": {
          "base_uri": "https://localhost:8080/",
          "height": 34
        },
        "outputId": "9d243bdc-b1a7-444a-dc1d-9a25b603a942"
      },
      "source": [
        "movies_10 = list(movies_with_mean_count.sort_values(\"quantity_rating\", ascending=False)['movieId'].head(10))\n",
        "movies_10 #Lista dos Ids dos 10 filmes que mais possuem votos"
      ],
      "execution_count": null,
      "outputs": [
        {
          "output_type": "execute_result",
          "data": {
            "text/plain": [
              "[356, 318, 296, 593, 2571, 260, 480, 110, 589, 527]"
            ]
          },
          "metadata": {
            "tags": []
          },
          "execution_count": 152
        }
      ]
    },
    {
      "cell_type": "code",
      "metadata": {
        "id": "PioCk9vW49Pk",
        "colab_type": "code",
        "colab": {}
      },
      "source": [
        "movies_10_votes = ratings[ratings[\"movieId\"].isin(movies_10)] #Filtragem do dataframe ratings para pegarmos apenas as infos desses filmes"
      ],
      "execution_count": null,
      "outputs": []
    },
    {
      "cell_type": "code",
      "metadata": {
        "id": "GJ9qhXvO4Ht9",
        "colab_type": "code",
        "colab": {
          "base_uri": "https://localhost:8080/",
          "height": 296
        },
        "outputId": "105d3ec8-cdb4-4e20-a6ba-246a55a5e236"
      },
      "source": [
        "sns.boxplot(data=movies_10_votes, x=\"movieId\", y=\"rating\")"
      ],
      "execution_count": null,
      "outputs": [
        {
          "output_type": "execute_result",
          "data": {
            "text/plain": [
              "<matplotlib.axes._subplots.AxesSubplot at 0x7faf7fff3128>"
            ]
          },
          "metadata": {
            "tags": []
          },
          "execution_count": 154
        },
        {
          "output_type": "display_data",
          "data": {
            "image/png": "[encoded data removed]",
            "text/plain": [
              "<Figure size 432x288 with 1 Axes>"
            ]
          },
          "metadata": {
            "tags": []
          }
        }
      ]
    },
    {
      "cell_type": "markdown",
      "metadata": {
        "id": "cdqlm5--lpyo",
        "colab_type": "text"
      },
      "source": [
        "Desafio 4: Deixar o boxplot\n",
        " num tamanho adequado e com os nomes dos filmes nos ticks"
      ]
    },
    {
      "cell_type": "code",
      "metadata": {
        "id": "p1mojDJj6I9p",
        "colab_type": "code",
        "colab": {}
      },
      "source": [
        "movies_10_votes = pd.merge(movies_10_votes, movies, on='movieId')"
      ],
      "execution_count": null,
      "outputs": []
    },
    {
      "cell_type": "code",
      "metadata": {
        "id": "tbHWOkXV7noM",
        "colab_type": "code",
        "colab": {
          "base_uri": "https://localhost:8080/",
          "height": 609
        },
        "outputId": "54bcd0c6-b6f5-42bb-e062-67c75134fb31"
      },
      "source": [
        "plt.figure(figsize=(16,6))\n",
        "plt.xticks(rotation=90)\n",
        "sns.boxplot(data=movies_10_votes, x=\"title\", y=\"rating\")"
      ],
      "execution_count": null,
      "outputs": [
        {
          "output_type": "execute_result",
          "data": {
            "text/plain": [
              "<matplotlib.axes._subplots.AxesSubplot at 0x7faf7f3082e8>"
            ]
          },
          "metadata": {
            "tags": []
          },
          "execution_count": 156
        },
        {
          "output_type": "display_data",
          "data": {
            "image/png": "[encoded data removed]",
            "text/plain": [
              "<Figure size 1152x432 with 1 Axes>"
            ]
          },
          "metadata": {
            "tags": []
          }
        }
      ]
    },
    {
      "cell_type": "markdown",
      "metadata": {
        "id": "dtXaezdDo8sK",
        "colab_type": "text"
      },
      "source": [
        "Desafio 5: Calcular moda, média e mediana dos filmes. Explore filmes com notas mais próximas de 0.5, 3 e 5."
      ]
    },
    {
      "cell_type": "code",
      "metadata": {
        "id": "iNyWweLNqVoK",
        "colab_type": "code",
        "colab": {}
      },
      "source": [
        "import statistics"
      ],
      "execution_count": null,
      "outputs": []
    },
    {
      "cell_type": "code",
      "metadata": {
        "id": "vrpKoUC5nqHw",
        "colab_type": "code",
        "colab": {}
      },
      "source": [
        "def calculate(movie_id):\n",
        "  mean_rating = ratings.query(f\"movieId == {movie_id}\")['rating'].mean()\n",
        "  print(f\"A média do filme de Id igual a {movie_id} é: {mean_rating}\")\n",
        "  median_rating = ratings.query(f\"movieId == {movie_id}\")['rating'].median()\n",
        "  print(f\"A mediana do filme de Id igual a {movie_id} é: {median_rating}\")\n",
        "  mode_rating = statistics.mode(ratings.query(f\"movieId == {movie_id}\")['rating'])\n",
        "  print(f\"A moda do filme de Id igual a {movie_id} é: {mode_rating}\")"
      ],
      "execution_count": null,
      "outputs": []
    },
    {
      "cell_type": "code",
      "metadata": {
        "id": "HJaoWETaoc24",
        "colab_type": "code",
        "colab": {
          "base_uri": "https://localhost:8080/",
          "height": 68
        },
        "outputId": "8b5c1da0-b7e9-46fb-b66e-9b63dadca985"
      },
      "source": [
        "calculate(2)"
      ],
      "execution_count": null,
      "outputs": [
        {
          "output_type": "stream",
          "text": [
            "A média do filme de Id igual a 2 é: 3.4318181818181817\n",
            "A mediana do filme de Id igual a 2 é: 3.5\n",
            "A moda do filme de Id igual a 2 é: 4.0\n"
          ],
          "name": "stdout"
        }
      ]
    },
    {
      "cell_type": "markdown",
      "metadata": {
        "id": "kddcYagspH5k",
        "colab_type": "text"
      },
      "source": [
        "Desafio 6: Plotar o boxplot e o histograma um do lado do outro (no mesma figura ou em figuras distintas)"
      ]
    },
    {
      "cell_type": "code",
      "metadata": {
        "id": "Qc7DCMnSyOYQ",
        "colab_type": "code",
        "colab": {}
      },
      "source": [
        "def challenge_plot(n):\n",
        "  fig, axs = plt.subplots(ncols=2)\n",
        "  rating_movie = ratings.query(f\"movieId =={n}\")['rating']\n",
        "  rating_movie.plot(kind='hist', ax=axs[0])\n",
        "  rating_movie.plot.box(ax=axs[1])"
      ],
      "execution_count": null,
      "outputs": []
    },
    {
      "cell_type": "code",
      "metadata": {
        "id": "67G6WPRQyqXc",
        "colab_type": "code",
        "colab": {
          "base_uri": "https://localhost:8080/",
          "height": 265
        },
        "outputId": "65238afa-9a4c-4593-f85e-917318c80d9a"
      },
      "source": [
        "challenge_plot(2)"
      ],
      "execution_count": null,
      "outputs": [
        {
          "output_type": "display_data",
          "data": {
            "image/png": "[encoded data removed]",
            "text/plain": [
              "<Figure size 432x288 with 2 Axes>"
            ]
          },
          "metadata": {
            "tags": []
          }
        }
      ]
    },
    {
      "cell_type": "markdown",
      "metadata": {
        "id": "ntZcqnffpepS",
        "colab_type": "text"
      },
      "source": [
        "Desafio 7: Gráfico de notas médias por ano"
      ]
    },
    {
      "cell_type": "code",
      "metadata": {
        "id": "Z7F_RLnF0N8N",
        "colab_type": "code",
        "colab": {
          "base_uri": "https://localhost:8080/",
          "height": 204
        },
        "outputId": "1d2f06e8-f864-44f5-84f6-0c37e8ab71a8"
      },
      "source": [
        "movies_with_mean_year = movies_with_mean\n",
        "movies_with_mean_year['year'] = movies_with_mean['title'].str.extract(\"\\((\\d{4})\\)\") #extrair os 4 numeros para a nova coluna year\n",
        "movies_with_mean_year.head()"
      ],
      "execution_count": null,
      "outputs": [
        {
          "output_type": "execute_result",
          "data": {
            "text/html": [
              "<div>\n",
              "<style scoped>\n",
              "    .dataframe tbody tr th:only-of-type {\n",
              "        vertical-align: middle;\n",
              "    }\n",
              "\n",
              "    .dataframe tbody tr th {\n",
              "        vertical-align: top;\n",
              "    }\n",
              "\n",
              "    .dataframe thead th {\n",
              "        text-align: right;\n",
              "    }\n",
              "</style>\n",
              "<table border=\"1\" class=\"dataframe\">\n",
              "  <thead>\n",
              "    <tr style=\"text-align: right;\">\n",
              "      <th></th>\n",
              "      <th>movieId</th>\n",
              "      <th>title</th>\n",
              "      <th>genres</th>\n",
              "      <th>mean_rating</th>\n",
              "      <th>year</th>\n",
              "    </tr>\n",
              "  </thead>\n",
              "  <tbody>\n",
              "    <tr>\n",
              "      <th>0</th>\n",
              "      <td>1</td>\n",
              "      <td>Toy Story (1995)</td>\n",
              "      <td>Adventure|Animation|Children|Comedy|Fantasy</td>\n",
              "      <td>3.920930</td>\n",
              "      <td>1995</td>\n",
              "    </tr>\n",
              "    <tr>\n",
              "      <th>1</th>\n",
              "      <td>2</td>\n",
              "      <td>Jumanji (1995)</td>\n",
              "      <td>Adventure|Children|Fantasy</td>\n",
              "      <td>3.431818</td>\n",
              "      <td>1995</td>\n",
              "    </tr>\n",
              "    <tr>\n",
              "      <th>2</th>\n",
              "      <td>3</td>\n",
              "      <td>Grumpier Old Men (1995)</td>\n",
              "      <td>Comedy|Romance</td>\n",
              "      <td>3.259615</td>\n",
              "      <td>1995</td>\n",
              "    </tr>\n",
              "    <tr>\n",
              "      <th>3</th>\n",
              "      <td>4</td>\n",
              "      <td>Waiting to Exhale (1995)</td>\n",
              "      <td>Comedy|Drama|Romance</td>\n",
              "      <td>2.357143</td>\n",
              "      <td>1995</td>\n",
              "    </tr>\n",
              "    <tr>\n",
              "      <th>4</th>\n",
              "      <td>5</td>\n",
              "      <td>Father of the Bride Part II (1995)</td>\n",
              "      <td>Comedy</td>\n",
              "      <td>3.071429</td>\n",
              "      <td>1995</td>\n",
              "    </tr>\n",
              "  </tbody>\n",
              "</table>\n",
              "</div>"
            ],
            "text/plain": [
              "   movieId                               title  ... mean_rating  year\n",
              "0        1                    Toy Story (1995)  ...    3.920930  1995\n",
              "1        2                      Jumanji (1995)  ...    3.431818  1995\n",
              "2        3             Grumpier Old Men (1995)  ...    3.259615  1995\n",
              "3        4            Waiting to Exhale (1995)  ...    2.357143  1995\n",
              "4        5  Father of the Bride Part II (1995)  ...    3.071429  1995\n",
              "\n",
              "[5 rows x 5 columns]"
            ]
          },
          "metadata": {
            "tags": []
          },
          "execution_count": 162
        }
      ]
    },
    {
      "cell_type": "code",
      "metadata": {
        "id": "0dSzjqvg0l_t",
        "colab_type": "code",
        "colab": {
          "base_uri": "https://localhost:8080/",
          "height": 405
        },
        "outputId": "1649be80-05b6-427d-ce6f-f27e45dbd369"
      },
      "source": [
        "graph_movies_year = movies_with_mean_year.groupby('year')['mean_rating'].mean()\n",
        "plt.figure(figsize=(16,6))\n",
        "graph_movies_year.plot()"
      ],
      "execution_count": null,
      "outputs": [
        {
          "output_type": "execute_result",
          "data": {
            "text/plain": [
              "<matplotlib.axes._subplots.AxesSubplot at 0x7faf7f3f23c8>"
            ]
          },
          "metadata": {
            "tags": []
          },
          "execution_count": 163
        },
        {
          "output_type": "display_data",
          "data": {
            "image/png": "[encoded data removed]",
            "text/plain": [
              "<Figure size 1152x432 with 1 Axes>"
            ]
          },
          "metadata": {
            "tags": []
          }
        }
      ]
    }
  ]
}